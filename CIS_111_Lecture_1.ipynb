{
  "nbformat": 4,
  "nbformat_minor": 0,
  "metadata": {
    "colab": {
      "provenance": []
    },
    "kernelspec": {
      "name": "python3",
      "display_name": "Python 3"
    },
    "language_info": {
      "name": "python"
    }
  },
  "cells": [
    {
      "cell_type": "markdown",
      "source": [
        "# CIS Lecture 1"
      ],
      "metadata": {
        "id": "gtNsgO9WXFMm"
      }
    },
    {
      "cell_type": "markdown",
      "source": [
        "Google Colab is a service that provides a browser based Python interpreter. Python is an interpreted language (unlike C++ for example, which is a compiled language). Python is a good first language to learn because it is intuitive and accessible.\n",
        "\n",
        "**Jupyter Notebooks** are interactive ways of writing python code along with markdown (human language) to document what the code is doing. We can write code or markdown text inside cells. This is a good way to learn python because we can see the output of code blocks without rerunning the entire program.\n",
        "\n",
        "**To run a cell:** press shift + enter at the same time"
      ],
      "metadata": {
        "id": "7dCkBAOkXl5S"
      }
    },
    {
      "cell_type": "markdown",
      "source": [
        "## Python as a Calculator"
      ],
      "metadata": {
        "id": "QA4uidPjZccQ"
      }
    },
    {
      "cell_type": "markdown",
      "source": [
        "Let's warm up by using python as a calculator. We can add, subtract, multiply and divide numbers doing something like this:"
      ],
      "metadata": {
        "id": "qktvE5cQZhRm"
      }
    },
    {
      "cell_type": "markdown",
      "source": [
        "(to run python, we need to create a code cell by positioning the mouse where we want the cell and clicking + code)"
      ],
      "metadata": {
        "id": "X_NHloWGZz5M"
      }
    },
    {
      "cell_type": "code",
      "source": [
        "2 + 5"
      ],
      "metadata": {
        "colab": {
          "base_uri": "https://localhost:8080/"
        },
        "id": "oe56P8CeZsHX",
        "outputId": "300293f1-9696-47ab-dbed-c81ec2d7a14a"
      },
      "execution_count": 1,
      "outputs": [
        {
          "output_type": "execute_result",
          "data": {
            "text/plain": [
              "7"
            ]
          },
          "metadata": {},
          "execution_count": 1
        }
      ]
    },
    {
      "cell_type": "code",
      "source": [
        "5 - 8"
      ],
      "metadata": {
        "colab": {
          "base_uri": "https://localhost:8080/"
        },
        "id": "EfEbJmeNZ7Zf",
        "outputId": "3a3159e2-4fb3-4344-c0dc-857966016b37"
      },
      "execution_count": 2,
      "outputs": [
        {
          "output_type": "execute_result",
          "data": {
            "text/plain": [
              "-3"
            ]
          },
          "metadata": {},
          "execution_count": 2
        }
      ]
    },
    {
      "cell_type": "code",
      "execution_count": 7,
      "metadata": {
        "colab": {
          "base_uri": "https://localhost:8080/"
        },
        "id": "AjTP-OWfWg2c",
        "outputId": "0730157d-c2ce-4d60-89db-bacb54acdcc6"
      },
      "outputs": [
        {
          "output_type": "execute_result",
          "data": {
            "text/plain": [
              "200"
            ]
          },
          "metadata": {},
          "execution_count": 7
        }
      ],
      "source": [
        "4*50"
      ]
    },
    {
      "cell_type": "markdown",
      "source": [
        "## Question: what are the bracketed numbers to the left of the code cells?\n",
        "The bracketed numbers to the left of the code cell tell us the order of execution of the cells. For example, rerunning the same cell will cause the number to increase by 1."
      ],
      "metadata": {
        "id": "V-1rDYWYa6jQ"
      }
    },
    {
      "cell_type": "code",
      "source": [
        "2**2 # We can write a comment in python by using a hastag\n",
        "# two asteriks denote exponentiation"
      ],
      "metadata": {
        "colab": {
          "base_uri": "https://localhost:8080/"
        },
        "id": "x3a4H1B0bJCS",
        "outputId": "e774f7f9-ad0b-47c6-c264-aec342e51118"
      },
      "execution_count": 8,
      "outputs": [
        {
          "output_type": "execute_result",
          "data": {
            "text/plain": [
              "4"
            ]
          },
          "metadata": {},
          "execution_count": 8
        }
      ]
    },
    {
      "cell_type": "markdown",
      "source": [
        "# Types in Python\n",
        "Numbers in python can be integers or floats (decimals). We can check what type a number is by using type(). For example:"
      ],
      "metadata": {
        "id": "2fXaSU7oXfMR"
      }
    },
    {
      "cell_type": "code",
      "source": [
        "type(5) # here, writing type(some_number) gives me the type of that number"
      ],
      "metadata": {
        "colab": {
          "base_uri": "https://localhost:8080/"
        },
        "id": "rcbriYM6b5sk",
        "outputId": "18eb41ba-b9ad-4355-a86c-37862493468a"
      },
      "execution_count": 9,
      "outputs": [
        {
          "output_type": "execute_result",
          "data": {
            "text/plain": [
              "int"
            ]
          },
          "metadata": {},
          "execution_count": 9
        }
      ]
    },
    {
      "cell_type": "code",
      "source": [
        "type(5.2)"
      ],
      "metadata": {
        "colab": {
          "base_uri": "https://localhost:8080/"
        },
        "id": "fqw1Vakib6pT",
        "outputId": "d4459625-0442-4eb3-c170-52889a05a74f"
      },
      "execution_count": 10,
      "outputs": [
        {
          "output_type": "execute_result",
          "data": {
            "text/plain": [
              "float"
            ]
          },
          "metadata": {},
          "execution_count": 10
        }
      ]
    },
    {
      "cell_type": "markdown",
      "source": [
        "We can also write strings in python:"
      ],
      "metadata": {
        "id": "B2GA8q4ZcQBv"
      }
    },
    {
      "cell_type": "code",
      "source": [
        "'Hahaha'"
      ],
      "metadata": {
        "colab": {
          "base_uri": "https://localhost:8080/",
          "height": 35
        },
        "id": "_SSi20tHb_q5",
        "outputId": "39224fd3-3e95-44c3-d0ae-e213e604f31d"
      },
      "execution_count": 11,
      "outputs": [
        {
          "output_type": "execute_result",
          "data": {
            "text/plain": [
              "'Hahaha'"
            ],
            "application/vnd.google.colaboratory.intrinsic+json": {
              "type": "string"
            }
          },
          "metadata": {},
          "execution_count": 11
        }
      ]
    },
    {
      "cell_type": "code",
      "source": [
        "'Antonio'"
      ],
      "metadata": {
        "colab": {
          "base_uri": "https://localhost:8080/",
          "height": 35
        },
        "id": "CWg2cLVvcS5S",
        "outputId": "49571efc-6a0a-487d-a48b-259261b7c5f4"
      },
      "execution_count": 12,
      "outputs": [
        {
          "output_type": "execute_result",
          "data": {
            "text/plain": [
              "'Antonio'"
            ],
            "application/vnd.google.colaboratory.intrinsic+json": {
              "type": "string"
            }
          },
          "metadata": {},
          "execution_count": 12
        }
      ]
    },
    {
      "cell_type": "code",
      "source": [
        "'Atlanta is a fun town'"
      ],
      "metadata": {
        "colab": {
          "base_uri": "https://localhost:8080/",
          "height": 35
        },
        "id": "IheF9uaWcUK6",
        "outputId": "0b62b4a4-f4a3-4ff6-e5f3-e77e4d2dad02"
      },
      "execution_count": 13,
      "outputs": [
        {
          "output_type": "execute_result",
          "data": {
            "text/plain": [
              "'Atlanta is a fun town'"
            ],
            "application/vnd.google.colaboratory.intrinsic+json": {
              "type": "string"
            }
          },
          "metadata": {},
          "execution_count": 13
        }
      ]
    },
    {
      "cell_type": "markdown",
      "source": [
        "## Variables"
      ],
      "metadata": {
        "id": "zaz3SF9Ecb1g"
      }
    },
    {
      "cell_type": "markdown",
      "source": [
        "We often want to reuse a number or string or something more than once, so it's useful to define a variable (think of it like a name) for it. We can instantiate (define an instance of) a variable by giving it a name and putting an equals sign and then giving it a value on the right hand side of the equals sign like this:"
      ],
      "metadata": {
        "id": "RGzeVzBjcdjk"
      }
    },
    {
      "cell_type": "code",
      "source": [
        "firstname = 'Antonio'\n",
        "firstname"
      ],
      "metadata": {
        "colab": {
          "base_uri": "https://localhost:8080/",
          "height": 35
        },
        "id": "k6sr2OjUcXzX",
        "outputId": "92d0103c-aa37-4ef9-b424-6930fa8a16ca"
      },
      "execution_count": 14,
      "outputs": [
        {
          "output_type": "execute_result",
          "data": {
            "text/plain": [
              "'Antonio'"
            ],
            "application/vnd.google.colaboratory.intrinsic+json": {
              "type": "string"
            }
          },
          "metadata": {},
          "execution_count": 14
        }
      ]
    },
    {
      "cell_type": "code",
      "source": [
        "middlename = 'Khalil'\n",
        "lastname = 'Moretti'"
      ],
      "metadata": {
        "id": "k8YrPQfYdCcy"
      },
      "execution_count": 16,
      "outputs": []
    },
    {
      "cell_type": "code",
      "source": [
        "firstname"
      ],
      "metadata": {
        "colab": {
          "base_uri": "https://localhost:8080/",
          "height": 35
        },
        "id": "F9q9QrfEdGad",
        "outputId": "a4ddeb4a-2c80-4a75-9fd3-4cbdaf1a4b4b"
      },
      "execution_count": 17,
      "outputs": [
        {
          "output_type": "execute_result",
          "data": {
            "text/plain": [
              "'Antonio'"
            ],
            "application/vnd.google.colaboratory.intrinsic+json": {
              "type": "string"
            }
          },
          "metadata": {},
          "execution_count": 17
        }
      ]
    },
    {
      "cell_type": "markdown",
      "source": [
        "We can also print by using the print function like this:"
      ],
      "metadata": {
        "id": "t2ruuzttdL37"
      }
    },
    {
      "cell_type": "code",
      "source": [
        "print(firstname)"
      ],
      "metadata": {
        "colab": {
          "base_uri": "https://localhost:8080/"
        },
        "id": "hnWmaZ2JdKj4",
        "outputId": "54c9b70a-304c-4577-f9e7-71aadc5ec143"
      },
      "execution_count": 18,
      "outputs": [
        {
          "output_type": "stream",
          "name": "stdout",
          "text": [
            "Antonio\n"
          ]
        }
      ]
    },
    {
      "cell_type": "code",
      "source": [
        "print(firstname,middlename,lastname)"
      ],
      "metadata": {
        "colab": {
          "base_uri": "https://localhost:8080/"
        },
        "id": "vo7Pl-LDdPJ8",
        "outputId": "6e726299-6b12-4a76-904e-7e28914b12d5"
      },
      "execution_count": 19,
      "outputs": [
        {
          "output_type": "stream",
          "name": "stdout",
          "text": [
            "Antonio Khalil Moretti\n"
          ]
        }
      ]
    },
    {
      "cell_type": "markdown",
      "source": [
        "## A few more names\n",
        "What if we want to write a string with an apostrophae in it? We can use either the single quotation marks or double quotation marks to open and close a string. For example\n"
      ],
      "metadata": {
        "id": "u0YM7FJudsM6"
      }
    },
    {
      "cell_type": "code",
      "source": [
        "myfavoritename = \"Le'Nae\"\n",
        "myfavoritename"
      ],
      "metadata": {
        "colab": {
          "base_uri": "https://localhost:8080/",
          "height": 35
        },
        "id": "v-CR1MSCeBie",
        "outputId": "aa02d577-5c28-4671-f6af-97089a043702"
      },
      "execution_count": 21,
      "outputs": [
        {
          "output_type": "execute_result",
          "data": {
            "text/plain": [
              "\"Le'Nae\""
            ],
            "application/vnd.google.colaboratory.intrinsic+json": {
              "type": "string"
            }
          },
          "metadata": {},
          "execution_count": 21
        }
      ]
    },
    {
      "cell_type": "markdown",
      "source": [
        "## String Concatenation\n",
        "Let's print a message:"
      ],
      "metadata": {
        "id": "B0xC_8xXeGuw"
      }
    },
    {
      "cell_type": "code",
      "source": [
        "print(\"My first name is: \", firstname, \" my middle name is: \", middlename, \" and my last name is: \", lastname)"
      ],
      "metadata": {
        "colab": {
          "base_uri": "https://localhost:8080/"
        },
        "id": "tFcjFHQidRMM",
        "outputId": "a42fbd4d-9486-48c4-b409-9271634e840a"
      },
      "execution_count": 22,
      "outputs": [
        {
          "output_type": "stream",
          "name": "stdout",
          "text": [
            "My first name is:  Antonio  my middle name is:  Khalil  and my last name is:  Moretti\n"
          ]
        }
      ]
    },
    {
      "cell_type": "code",
      "source": [
        "print(5*'Ha')"
      ],
      "metadata": {
        "colab": {
          "base_uri": "https://localhost:8080/"
        },
        "id": "0WX0SqXneRml",
        "outputId": "bacaf2ee-9447-4c06-b187-5f660e9664b3"
      },
      "execution_count": 23,
      "outputs": [
        {
          "output_type": "stream",
          "name": "stdout",
          "text": [
            "HaHaHaHaHa\n"
          ]
        }
      ]
    },
    {
      "cell_type": "code",
      "source": [
        "type(firstname)"
      ],
      "metadata": {
        "colab": {
          "base_uri": "https://localhost:8080/"
        },
        "id": "Xb8X0OLYfcHJ",
        "outputId": "a6efea60-e1d5-41da-bbc4-4e131c7802a7"
      },
      "execution_count": 24,
      "outputs": [
        {
          "output_type": "execute_result",
          "data": {
            "text/plain": [
              "str"
            ]
          },
          "metadata": {},
          "execution_count": 24
        }
      ]
    },
    {
      "cell_type": "code",
      "source": [
        "print(firstname + \" \" + middlename + \" \" + lastname)"
      ],
      "metadata": {
        "colab": {
          "base_uri": "https://localhost:8080/"
        },
        "id": "MAkGhP58fpJV",
        "outputId": "c8d96636-cfad-40fa-f014-27da255a4ce0"
      },
      "execution_count": 27,
      "outputs": [
        {
          "output_type": "stream",
          "name": "stdout",
          "text": [
            "Antonio Khalil Moretti\n"
          ]
        }
      ]
    },
    {
      "cell_type": "markdown",
      "source": [
        "# Lists"
      ],
      "metadata": {
        "id": "lfqHLj38f2dl"
      }
    },
    {
      "cell_type": "markdown",
      "source": [
        "We often want to collect multiple things at once. One way to do this is with a list like this:"
      ],
      "metadata": {
        "id": "ZmYbN-T3f4Uc"
      }
    },
    {
      "cell_type": "code",
      "source": [
        "CIS_Student_Names = ['Peyton', 'Chichi', 'Nat', 'Jordan', 'Chyann', 'Laramie', 'Aliya', 'Nabilah']\n",
        "\n",
        "# If we use parenthenses, we get a different object called a tuple"
      ],
      "metadata": {
        "id": "HHO--x3UftpO"
      },
      "execution_count": 28,
      "outputs": []
    },
    {
      "cell_type": "markdown",
      "source": [
        "We can index into a list like this:"
      ],
      "metadata": {
        "id": "ksg0CNpygY6_"
      }
    },
    {
      "cell_type": "code",
      "source": [
        "CIS_Student_Names[0]"
      ],
      "metadata": {
        "colab": {
          "base_uri": "https://localhost:8080/",
          "height": 35
        },
        "id": "DnLJUOX5gYZD",
        "outputId": "1903c62a-b484-493d-e0ac-f98e7dca1f8b"
      },
      "execution_count": 29,
      "outputs": [
        {
          "output_type": "execute_result",
          "data": {
            "text/plain": [
              "'Peyton'"
            ],
            "application/vnd.google.colaboratory.intrinsic+json": {
              "type": "string"
            }
          },
          "metadata": {},
          "execution_count": 29
        }
      ]
    },
    {
      "cell_type": "code",
      "source": [
        "CIS_Student_Names[1]"
      ],
      "metadata": {
        "colab": {
          "base_uri": "https://localhost:8080/",
          "height": 35
        },
        "id": "xUtFY2Ktgd_i",
        "outputId": "5dcc084b-d84a-48e2-fa04-90c474a6dc84"
      },
      "execution_count": 30,
      "outputs": [
        {
          "output_type": "execute_result",
          "data": {
            "text/plain": [
              "'Chichi'"
            ],
            "application/vnd.google.colaboratory.intrinsic+json": {
              "type": "string"
            }
          },
          "metadata": {},
          "execution_count": 30
        }
      ]
    },
    {
      "cell_type": "code",
      "source": [
        "CIS_Student_Names[0:3]"
      ],
      "metadata": {
        "colab": {
          "base_uri": "https://localhost:8080/"
        },
        "id": "LweX1jPsggIg",
        "outputId": "f66a7828-f15b-49cc-f849-73dd12b7b5d8"
      },
      "execution_count": 32,
      "outputs": [
        {
          "output_type": "execute_result",
          "data": {
            "text/plain": [
              "['Peyton', 'Chichi', 'Nat']"
            ]
          },
          "metadata": {},
          "execution_count": 32
        }
      ]
    },
    {
      "cell_type": "code",
      "source": [
        "CIS_Student_Names[3:6]"
      ],
      "metadata": {
        "colab": {
          "base_uri": "https://localhost:8080/"
        },
        "id": "-MbybpmQgi_u",
        "outputId": "f3b3cccc-973c-4e70-f044-76c9ed37015e"
      },
      "execution_count": 33,
      "outputs": [
        {
          "output_type": "execute_result",
          "data": {
            "text/plain": [
              "['Jordan', 'Chyann', 'Laramie']"
            ]
          },
          "metadata": {},
          "execution_count": 33
        }
      ]
    },
    {
      "cell_type": "code",
      "source": [
        "CIS_Student_Names[-1] # We can index from the right by using a minus sign"
      ],
      "metadata": {
        "colab": {
          "base_uri": "https://localhost:8080/",
          "height": 35
        },
        "id": "FU5tIMSAhcO7",
        "outputId": "8f838a85-0b30-419a-ea7b-dd6a25e76a00"
      },
      "execution_count": 37,
      "outputs": [
        {
          "output_type": "execute_result",
          "data": {
            "text/plain": [
              "'Nabilah'"
            ],
            "application/vnd.google.colaboratory.intrinsic+json": {
              "type": "string"
            }
          },
          "metadata": {},
          "execution_count": 37
        }
      ]
    },
    {
      "cell_type": "code",
      "source": [
        "# We can reverse the entire list like this:\n",
        "CIS_Student_Names[::-1]"
      ],
      "metadata": {
        "colab": {
          "base_uri": "https://localhost:8080/"
        },
        "id": "jWjdL2hrhfCo",
        "outputId": "7d043d9e-7929-4d44-fea9-8e118de66a8e"
      },
      "execution_count": 39,
      "outputs": [
        {
          "output_type": "execute_result",
          "data": {
            "text/plain": [
              "['Nabilah', 'Aliya', 'Laramie', 'Chyann', 'Jordan', 'Nat', 'Chichi', 'Peyton']"
            ]
          },
          "metadata": {},
          "execution_count": 39
        }
      ]
    },
    {
      "cell_type": "markdown",
      "source": [
        "## Inserting and deleting elements from a list\n"
      ],
      "metadata": {
        "id": "pIhSHxm-iXBR"
      }
    },
    {
      "cell_type": "code",
      "source": [
        "newname = 'Jordan'"
      ],
      "metadata": {
        "id": "uNnhtg23ho4g"
      },
      "execution_count": 40,
      "outputs": []
    },
    {
      "cell_type": "code",
      "source": [
        "# We can append a name to a list like this\n",
        "CIS_Student_Names.append(newname)\n",
        "print(CIS_Student_Names)"
      ],
      "metadata": {
        "colab": {
          "base_uri": "https://localhost:8080/"
        },
        "id": "hAJdxbshii4r",
        "outputId": "94c0ccef-744f-48d4-aba2-cb6c7588d627"
      },
      "execution_count": 41,
      "outputs": [
        {
          "output_type": "stream",
          "name": "stdout",
          "text": [
            "['Peyton', 'Chichi', 'Nat', 'Jordan', 'Chyann', 'Laramie', 'Aliya', 'Nabilah', 'Jordan']\n"
          ]
        }
      ]
    },
    {
      "cell_type": "code",
      "source": [
        "# We can also insert a name at a specific position in a list like this:\n",
        "CIS_Student_Names.insert(0, 'Jordan')\n",
        "print(CIS_Student_Names)"
      ],
      "metadata": {
        "colab": {
          "base_uri": "https://localhost:8080/"
        },
        "id": "hOFDTZ1Eilzc",
        "outputId": "3c5b78ba-c8df-4118-d295-a280dd95b82b"
      },
      "execution_count": 42,
      "outputs": [
        {
          "output_type": "stream",
          "name": "stdout",
          "text": [
            "['Jordan', 'Peyton', 'Chichi', 'Nat', 'Jordan', 'Chyann', 'Laramie', 'Aliya', 'Nabilah', 'Jordan']\n"
          ]
        }
      ]
    },
    {
      "cell_type": "markdown",
      "source": [
        "## Errors in Python\n",
        "Suppose I try something like this:"
      ],
      "metadata": {
        "id": "TvukzV4-jVXC"
      }
    },
    {
      "cell_type": "code",
      "source": [
        "CIS_Student_Names.append(0,'Charlie')"
      ],
      "metadata": {
        "colab": {
          "base_uri": "https://localhost:8080/",
          "height": 141
        },
        "id": "4S4u-67Bjaq5",
        "outputId": "f939fda5-5b46-458f-e2ba-4ff1298d178e"
      },
      "execution_count": 43,
      "outputs": [
        {
          "output_type": "error",
          "ename": "TypeError",
          "evalue": "list.append() takes exactly one argument (2 given)",
          "traceback": [
            "\u001b[0;31m---------------------------------------------------------------------------\u001b[0m",
            "\u001b[0;31mTypeError\u001b[0m                                 Traceback (most recent call last)",
            "\u001b[0;32m<ipython-input-43-50484cebbe79>\u001b[0m in \u001b[0;36m<cell line: 0>\u001b[0;34m()\u001b[0m\n\u001b[0;32m----> 1\u001b[0;31m \u001b[0mCIS_Student_Names\u001b[0m\u001b[0;34m.\u001b[0m\u001b[0mappend\u001b[0m\u001b[0;34m(\u001b[0m\u001b[0;36m0\u001b[0m\u001b[0;34m,\u001b[0m\u001b[0;34m'Charlie'\u001b[0m\u001b[0;34m)\u001b[0m\u001b[0;34m\u001b[0m\u001b[0;34m\u001b[0m\u001b[0m\n\u001b[0m",
            "\u001b[0;31mTypeError\u001b[0m: list.append() takes exactly one argument (2 given)"
          ]
        }
      ]
    },
    {
      "cell_type": "markdown",
      "source": [
        "If I write some code that is syntactically incorrect, I will get an error message. Understanding how to read and decipher these errors is a skill we will develop. The first thing to do is to read the error.\n",
        "\n",
        "Here, I see in red \"TypeError\". This tells me that the error is related to the type of a variable. There is also a message that may be helpful, although its often cryptic and we need to learn how to decode it.\n",
        "\n",
        "Its natural to get frustrated by cryptic error messages. Use whatever method to destress or vent that you find useful.\n",
        "\n",
        "Here, the message says list.append takes exactly one argument (but 2 were given). We need to say somenthing about functions (their inputs or arugments and their outputs) in order to understand this error."
      ],
      "metadata": {
        "id": "p6cK3JNwjwFA"
      }
    },
    {
      "cell_type": "code",
      "source": [
        "print(\"Greetings\",\"firstname\")"
      ],
      "metadata": {
        "colab": {
          "base_uri": "https://localhost:8080/"
        },
        "id": "-fG35R0BiucA",
        "outputId": "5dc8b5b3-c1c5-41e0-95f6-80e2339301fe"
      },
      "execution_count": 44,
      "outputs": [
        {
          "output_type": "stream",
          "name": "stdout",
          "text": [
            "Greetings firstname\n"
          ]
        }
      ]
    },
    {
      "cell_type": "code",
      "source": [
        "print(\"Greetings\", firstname)"
      ],
      "metadata": {
        "colab": {
          "base_uri": "https://localhost:8080/"
        },
        "id": "YWudW609l4bi",
        "outputId": "b4707c45-f542-45a0-8243-5ce325243ff2"
      },
      "execution_count": 45,
      "outputs": [
        {
          "output_type": "stream",
          "name": "stdout",
          "text": [
            "Greetings Antonio\n"
          ]
        }
      ]
    },
    {
      "cell_type": "code",
      "source": [],
      "metadata": {
        "id": "3ZFjHUQbl6un"
      },
      "execution_count": null,
      "outputs": []
    }
  ]
}